{
 "cells": [
  {
   "cell_type": "markdown",
   "id": "7e039b81",
   "metadata": {},
   "source": [
    "# Prácticas 05-06  (5%, 5%) Entrega Lección Semana 9, 17:30 horas\n",
    "## Entrega grupal"
   ]
  },
  {
   "cell_type": "markdown",
   "id": "50d5e50e",
   "metadata": {},
   "source": [
    "# Predicción de la calidad del vino."
   ]
  },
  {
   "cell_type": "markdown",
   "id": "5791c36b",
   "metadata": {},
   "source": [
    "El ejercicio descrito a continuación será desarrollado a lo largo de varias prácticas. En este documento se enunciarán las actividades correspondientes a las prácticas 5 y 6.\n",
    "\n",
    "## Propósito del ejercicio:\n",
    "\n",
    "Aplicar técnicas de aprendizaje automático para predecir la calidad del vino en base a sus características químicas. Este es un problema de regresión, donde la variable objetivo (quality) es continua. Para lograrlo, se realizará un análisis exploratorio, se prepararán (preprocesarán) los datos para el entrenamiento, se entrenarán modelos para seleccionar el de mejor rendimiento, se afinará el modelo seleccionado y finalmente este se evaluará usando el conjunto de prueba.\n",
    "\n",
    "## Propósito de las prácticas 5 y 6\n",
    "Explorar y preprocesar el data set.\n",
    "\n",
    "## Actividades\n",
    "\n",
    "1. Análisis exploratorio inicial: \n",
    "    1. Distribuciones y relaciones: Utilizar tablas de frecuencias, resúmenes numéricos, resúmenes gráficos (Histogramas, Box-plots) para analizar la distribución de cada característica. Buscar posibles correlaciones. Identificar posibles atributos que deban ser considerados en la estratificación de los conjuntos de entrenamiento y prueba. Identificar valores extremos.\n",
    "1. Separación de datos: Dividir el dataset en conjuntos de entrenamiento y prueba, si se aplica estratificación compárelos con los conjuntos que resultarían al dividirlos solo de forma aleatoria.\n",
    "1. Preprocesamiento del conjunto de entrenamiento:\n",
    "    1. Manejo de valores faltantes: Revisar si hay valores faltantes y aplicar una estrategia para manejarlos (por ejemplo, eliminación o imputación).\n",
    "    1. Escalado: Usar técnicas de escalado (como normalización o estandarización) para escalar los datos numéricos y mejorar el desempeño de algunos modelos.\n",
    "    1. Codificación de datos categóricas: Utilizar One-Hot Encoding para variables con categorías.\n",
    "    1. Creación de nuevas características: Revisar la utilidad de generar nuevas variables.\n",
    "2. Automatización del preprocesamiento: Usar \"pipelines\" y transformadores para automatizar los pasos del preprocesamiento del conjunto de entrenamiento   \n",
    "\n",
    "\n",
    "## Descripción del Dataset:\n",
    "\n",
    "En estas prácticas se utilizará el dataset de vinos (Wine Quality Dataset), que contiene información sobre diversas características químicas de los vinos y su calidad. El objetivo es predecir la calidad del vino utilizando las características proporcionadas. El dataset se compone de dos tipos de vino: vino rojo y vino blanco.\n",
    "\n",
    "**Características del Dataset:**\n",
    "\n",
    "El dataset contiene 12 variables, de las cuales 11 son características o atributos (variables predictoras) y una es la variable objetivo (la calidad del vino). Las variables se describen a continuación:\n",
    "\n",
    "- Variables predictoras \n",
    "    - fixed acidity: Acidez fija del vino (valor numérico).\n",
    "    - volatile acidity: Acidez volátil del vino (valor numérico).\n",
    "    - citric acid: Cantidad de ácido cítrico en el vino (valor numérico).\n",
    "    - residual sugar: Cantidad de azúcar residual en el vino (valor numérico).\n",
    "    - chlorides: Nivel de cloruros en el vino (valor numérico).\n",
    "    - free sulfur dioxide: Cantidad de dióxido de azufre libre (valor numérico).\n",
    "    - total sulfur dioxide: Cantidad total de dióxido de azufre (valor numérico).\n",
    "    - density: Densidad del vino (valor numérico).\n",
    "    - pH: pH del vino (valor numérico).\n",
    "    - sulphates: Nivel de sulfatos en el vino (valor numérico).\n",
    "    - alcohol: Porcentaje de alcohol en el vino (valor numérico).\n",
    "\n",
    "- Variable Objetivo:\n",
    "    - quality: Calidad del vino medida en una escala del 0 al 10, siendo 0 la menor calidad y 10 la mayor. Esta es la variable que se debe predecir utilizando los datos proporcionados.\n",
    "\n",
    "El data set está separado en dos archivos (uno para vino rojo y otro para vino blanco). Únalos en un solo archivo y agregue una columna categórica para identificar el tipo de vino con los siguientes valores: \"Blanco\" y \"Rojo\".\n",
    "\n",
    "Borre aleatoriamente algunos valores en las columnas de algunos registros para generar nulos.\n",
    "\n",
    "Referencia del data set:\n",
    "P. Cortez, A. Cerdeira, F. Almeida, T. Matos and J. Reis. \n",
    "  Modeling wine preferences by data mining from physicochemical properties.\n",
    "  In Decision Support Systems, Elsevier, 47(4):547-553. ISSN: 0167-9236.\n"
   ]
  },
  {
   "cell_type": "markdown",
   "id": "c63b49f2",
   "metadata": {},
   "source": [
    "### En próximas prácticas .....\n",
    "Usando el pipeline de preprocesamiento se entrenarán varios modelos, se seleccionará, se afinará y se probará el mejor."
   ]
  },
  {
   "cell_type": "code",
   "execution_count": 1,
   "id": "2a194ad6",
   "metadata": {},
   "outputs": [],
   "source": [
    "## Ingrese su código a partir de esta celda"
   ]
  },
  {
   "cell_type": "code",
   "execution_count": 1,
   "id": "fb8868c8",
   "metadata": {},
   "outputs": [],
   "source": [
    "import sys\n",
    "import sklearn\n",
    "import pandas as pd\n",
    "import matplotlib.pyplot as plt\n",
    "import numpy as np"
   ]
  },
  {
   "cell_type": "code",
   "execution_count": 5,
   "id": "fa47bf54-35df-47be-895b-270c8107a24c",
   "metadata": {},
   "outputs": [],
   "source": [
    "vinoRojo = pd.read_csv('winequality-red.csv')\n",
    "vinoBlanco = pd.read_csv('winequality-white.csv')"
   ]
  },
  {
   "cell_type": "code",
   "execution_count": 6,
   "id": "6f804b5e-dabf-4b27-bc1b-d3874d0b5274",
   "metadata": {},
   "outputs": [
    {
     "data": {
      "text/html": [
       "<div>\n",
       "<style scoped>\n",
       "    .dataframe tbody tr th:only-of-type {\n",
       "        vertical-align: middle;\n",
       "    }\n",
       "\n",
       "    .dataframe tbody tr th {\n",
       "        vertical-align: top;\n",
       "    }\n",
       "\n",
       "    .dataframe thead th {\n",
       "        text-align: right;\n",
       "    }\n",
       "</style>\n",
       "<table border=\"1\" class=\"dataframe\">\n",
       "  <thead>\n",
       "    <tr style=\"text-align: right;\">\n",
       "      <th></th>\n",
       "      <th>fixed acidity;\"volatile acidity\";\"citric acid\";\"residual sugar\";\"chlorides\";\"free sulfur dioxide\";\"total sulfur dioxide\";\"density\";\"pH\";\"sulphates\";\"alcohol\";\"quality\"</th>\n",
       "    </tr>\n",
       "  </thead>\n",
       "  <tbody>\n",
       "    <tr>\n",
       "      <th>count</th>\n",
       "      <td>1599</td>\n",
       "    </tr>\n",
       "    <tr>\n",
       "      <th>unique</th>\n",
       "      <td>1359</td>\n",
       "    </tr>\n",
       "    <tr>\n",
       "      <th>top</th>\n",
       "      <td>7.2;0.36;0.46;2.1;0.074;24;44;0.99534;3.4;0.85...</td>\n",
       "    </tr>\n",
       "    <tr>\n",
       "      <th>freq</th>\n",
       "      <td>4</td>\n",
       "    </tr>\n",
       "  </tbody>\n",
       "</table>\n",
       "</div>"
      ],
      "text/plain": [
       "       fixed acidity;\"volatile acidity\";\"citric acid\";\"residual sugar\";\"chlorides\";\"free sulfur dioxide\";\"total sulfur dioxide\";\"density\";\"pH\";\"sulphates\";\"alcohol\";\"quality\"\n",
       "count                                                1599                                                                                                                     \n",
       "unique                                               1359                                                                                                                     \n",
       "top     7.2;0.36;0.46;2.1;0.074;24;44;0.99534;3.4;0.85...                                                                                                                     \n",
       "freq                                                    4                                                                                                                     "
      ]
     },
     "execution_count": 6,
     "metadata": {},
     "output_type": "execute_result"
    }
   ],
   "source": [
    "vinoRojo.describe()"
   ]
  },
  {
   "cell_type": "code",
   "execution_count": 7,
   "id": "c49e0b73-c2d1-4d1f-8d07-124e3ca3d3d9",
   "metadata": {},
   "outputs": [
    {
     "data": {
      "text/html": [
       "<div>\n",
       "<style scoped>\n",
       "    .dataframe tbody tr th:only-of-type {\n",
       "        vertical-align: middle;\n",
       "    }\n",
       "\n",
       "    .dataframe tbody tr th {\n",
       "        vertical-align: top;\n",
       "    }\n",
       "\n",
       "    .dataframe thead th {\n",
       "        text-align: right;\n",
       "    }\n",
       "</style>\n",
       "<table border=\"1\" class=\"dataframe\">\n",
       "  <thead>\n",
       "    <tr style=\"text-align: right;\">\n",
       "      <th></th>\n",
       "      <th>fixed acidity;\"volatile acidity\";\"citric acid\";\"residual sugar\";\"chlorides\";\"free sulfur dioxide\";\"total sulfur dioxide\";\"density\";\"pH\";\"sulphates\";\"alcohol\";\"quality\"</th>\n",
       "    </tr>\n",
       "  </thead>\n",
       "  <tbody>\n",
       "    <tr>\n",
       "      <th>count</th>\n",
       "      <td>4898</td>\n",
       "    </tr>\n",
       "    <tr>\n",
       "      <th>unique</th>\n",
       "      <td>3961</td>\n",
       "    </tr>\n",
       "    <tr>\n",
       "      <th>top</th>\n",
       "      <td>7.3;0.19;0.27;13.9;0.057;45;155;0.99807;2.94;0...</td>\n",
       "    </tr>\n",
       "    <tr>\n",
       "      <th>freq</th>\n",
       "      <td>8</td>\n",
       "    </tr>\n",
       "  </tbody>\n",
       "</table>\n",
       "</div>"
      ],
      "text/plain": [
       "       fixed acidity;\"volatile acidity\";\"citric acid\";\"residual sugar\";\"chlorides\";\"free sulfur dioxide\";\"total sulfur dioxide\";\"density\";\"pH\";\"sulphates\";\"alcohol\";\"quality\"\n",
       "count                                                4898                                                                                                                     \n",
       "unique                                               3961                                                                                                                     \n",
       "top     7.3;0.19;0.27;13.9;0.057;45;155;0.99807;2.94;0...                                                                                                                     \n",
       "freq                                                    8                                                                                                                     "
      ]
     },
     "execution_count": 7,
     "metadata": {},
     "output_type": "execute_result"
    }
   ],
   "source": [
    "vinoBlanco.describe()"
   ]
  },
  {
   "cell_type": "code",
   "execution_count": null,
   "id": "162d86d4-836a-4ab5-a079-3c041ba8fb46",
   "metadata": {},
   "outputs": [],
   "source": []
  }
 ],
 "metadata": {
  "kernelspec": {
   "display_name": "Python [conda env:base] *",
   "language": "python",
   "name": "conda-base-py"
  },
  "language_info": {
   "codemirror_mode": {
    "name": "ipython",
    "version": 3
   },
   "file_extension": ".py",
   "mimetype": "text/x-python",
   "name": "python",
   "nbconvert_exporter": "python",
   "pygments_lexer": "ipython3",
   "version": "3.12.7"
  }
 },
 "nbformat": 4,
 "nbformat_minor": 5
}
